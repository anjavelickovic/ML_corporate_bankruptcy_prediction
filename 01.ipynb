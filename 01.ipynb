{
 "cells": [
  {
   "cell_type": "markdown",
   "id": "7a8507ea",
   "metadata": {},
   "source": [
    "# Osnovna analiza podataka\n"
   ]
  },
  {
   "cell_type": "code",
   "execution_count": 1,
   "id": "225e55fd",
   "metadata": {},
   "outputs": [],
   "source": [
    "import pandas as pd\n",
    "import numpy as np\n",
    "\n",
    "from sklearn import model_selection\n",
    "from sklearn import preprocessing\n",
    "\n",
    "from matplotlib import pyplot as plt"
   ]
  },
  {
   "cell_type": "code",
   "execution_count": 2,
   "id": "a2f0a391",
   "metadata": {},
   "outputs": [],
   "source": [
    "data = pd.read_csv('data/csv_result-5year.csv')"
   ]
  },
  {
   "cell_type": "code",
   "execution_count": 3,
   "id": "9ace9fde",
   "metadata": {},
   "outputs": [
    {
     "data": {
      "text/plain": [
       "(5910, 66)"
      ]
     },
     "execution_count": 3,
     "metadata": {},
     "output_type": "execute_result"
    }
   ],
   "source": [
    "data.shape\n",
    "#data.info()"
   ]
  },
  {
   "cell_type": "code",
   "execution_count": 4,
   "id": "361727f2",
   "metadata": {},
   "outputs": [
    {
     "name": "stdout",
     "output_type": "stream",
     "text": [
      "Broj instanci  u skupu podataka 5910\n"
     ]
    }
   ],
   "source": [
    "N = data.shape[0]\n",
    "print('Broj instanci  u skupu podataka', N)"
   ]
  },
  {
   "cell_type": "code",
   "execution_count": 5,
   "id": "6d68ea09",
   "metadata": {},
   "outputs": [
    {
     "data": {
      "text/html": [
       "<div>\n",
       "<style scoped>\n",
       "    .dataframe tbody tr th:only-of-type {\n",
       "        vertical-align: middle;\n",
       "    }\n",
       "\n",
       "    .dataframe tbody tr th {\n",
       "        vertical-align: top;\n",
       "    }\n",
       "\n",
       "    .dataframe thead th {\n",
       "        text-align: right;\n",
       "    }\n",
       "</style>\n",
       "<table border=\"1\" class=\"dataframe\">\n",
       "  <thead>\n",
       "    <tr style=\"text-align: right;\">\n",
       "      <th></th>\n",
       "      <th>id</th>\n",
       "      <th>Attr1</th>\n",
       "      <th>Attr2</th>\n",
       "      <th>Attr3</th>\n",
       "      <th>Attr4</th>\n",
       "      <th>Attr5</th>\n",
       "      <th>Attr6</th>\n",
       "      <th>Attr7</th>\n",
       "      <th>Attr8</th>\n",
       "      <th>Attr9</th>\n",
       "      <th>...</th>\n",
       "      <th>Attr56</th>\n",
       "      <th>Attr57</th>\n",
       "      <th>Attr58</th>\n",
       "      <th>Attr59</th>\n",
       "      <th>Attr60</th>\n",
       "      <th>Attr61</th>\n",
       "      <th>Attr62</th>\n",
       "      <th>Attr63</th>\n",
       "      <th>Attr64</th>\n",
       "      <th>class</th>\n",
       "    </tr>\n",
       "  </thead>\n",
       "  <tbody>\n",
       "    <tr>\n",
       "      <th>0</th>\n",
       "      <td>1</td>\n",
       "      <td>0.088238</td>\n",
       "      <td>0.55472</td>\n",
       "      <td>0.01134</td>\n",
       "      <td>1.0205</td>\n",
       "      <td>-66.52</td>\n",
       "      <td>0.34204</td>\n",
       "      <td>0.10949</td>\n",
       "      <td>0.57752</td>\n",
       "      <td>1.0881</td>\n",
       "      <td>...</td>\n",
       "      <td>0.080955</td>\n",
       "      <td>0.27543</td>\n",
       "      <td>0.91905</td>\n",
       "      <td>0.002024</td>\n",
       "      <td>7.2711</td>\n",
       "      <td>4.7343</td>\n",
       "      <td>142.760</td>\n",
       "      <td>2.5568</td>\n",
       "      <td>3.2597</td>\n",
       "      <td>0</td>\n",
       "    </tr>\n",
       "    <tr>\n",
       "      <th>1</th>\n",
       "      <td>2</td>\n",
       "      <td>-0.006202</td>\n",
       "      <td>0.48465</td>\n",
       "      <td>0.23298</td>\n",
       "      <td>1.5998</td>\n",
       "      <td>6.1825</td>\n",
       "      <td>0</td>\n",
       "      <td>-0.006202</td>\n",
       "      <td>1.0634</td>\n",
       "      <td>1.2757</td>\n",
       "      <td>...</td>\n",
       "      <td>-0.028591</td>\n",
       "      <td>-0.012035</td>\n",
       "      <td>1.00470</td>\n",
       "      <td>0.15222</td>\n",
       "      <td>6.0911</td>\n",
       "      <td>3.2749</td>\n",
       "      <td>111.140</td>\n",
       "      <td>3.2841</td>\n",
       "      <td>3.37</td>\n",
       "      <td>0</td>\n",
       "    </tr>\n",
       "    <tr>\n",
       "      <th>2</th>\n",
       "      <td>3</td>\n",
       "      <td>0.13024</td>\n",
       "      <td>0.22142</td>\n",
       "      <td>0.57751</td>\n",
       "      <td>3.6082</td>\n",
       "      <td>120.04</td>\n",
       "      <td>0.18764</td>\n",
       "      <td>0.16212</td>\n",
       "      <td>3.059</td>\n",
       "      <td>1.1415</td>\n",
       "      <td>...</td>\n",
       "      <td>0.123960</td>\n",
       "      <td>0.19229</td>\n",
       "      <td>0.87604</td>\n",
       "      <td>0</td>\n",
       "      <td>8.7934</td>\n",
       "      <td>2.987</td>\n",
       "      <td>71.531</td>\n",
       "      <td>5.1027</td>\n",
       "      <td>5.6188</td>\n",
       "      <td>0</td>\n",
       "    </tr>\n",
       "    <tr>\n",
       "      <th>3</th>\n",
       "      <td>4</td>\n",
       "      <td>-0.089951</td>\n",
       "      <td>0.887</td>\n",
       "      <td>0.26927</td>\n",
       "      <td>1.5222</td>\n",
       "      <td>-55.992</td>\n",
       "      <td>-0.073957</td>\n",
       "      <td>-0.089951</td>\n",
       "      <td>0.1274</td>\n",
       "      <td>1.2754</td>\n",
       "      <td>...</td>\n",
       "      <td>0.418840</td>\n",
       "      <td>-0.79602</td>\n",
       "      <td>0.59074</td>\n",
       "      <td>2.8787</td>\n",
       "      <td>7.6524</td>\n",
       "      <td>3.3302</td>\n",
       "      <td>147.560</td>\n",
       "      <td>2.4735</td>\n",
       "      <td>5.9299</td>\n",
       "      <td>0</td>\n",
       "    </tr>\n",
       "    <tr>\n",
       "      <th>4</th>\n",
       "      <td>5</td>\n",
       "      <td>0.048179</td>\n",
       "      <td>0.55041</td>\n",
       "      <td>0.10765</td>\n",
       "      <td>1.2437</td>\n",
       "      <td>-22.959</td>\n",
       "      <td>0</td>\n",
       "      <td>0.05928</td>\n",
       "      <td>0.81682</td>\n",
       "      <td>1.515</td>\n",
       "      <td>...</td>\n",
       "      <td>0.240400</td>\n",
       "      <td>0.10716</td>\n",
       "      <td>0.77048</td>\n",
       "      <td>0.13938</td>\n",
       "      <td>10.118</td>\n",
       "      <td>4.095</td>\n",
       "      <td>106.430</td>\n",
       "      <td>3.4294</td>\n",
       "      <td>3.3622</td>\n",
       "      <td>0</td>\n",
       "    </tr>\n",
       "  </tbody>\n",
       "</table>\n",
       "<p>5 rows × 66 columns</p>\n",
       "</div>"
      ],
      "text/plain": [
       "   id      Attr1    Attr2    Attr3   Attr4    Attr5      Attr6      Attr7  \\\n",
       "0   1   0.088238  0.55472  0.01134  1.0205   -66.52    0.34204    0.10949   \n",
       "1   2  -0.006202  0.48465  0.23298  1.5998   6.1825          0  -0.006202   \n",
       "2   3    0.13024  0.22142  0.57751  3.6082   120.04    0.18764    0.16212   \n",
       "3   4  -0.089951    0.887  0.26927  1.5222  -55.992  -0.073957  -0.089951   \n",
       "4   5   0.048179  0.55041  0.10765  1.2437  -22.959          0    0.05928   \n",
       "\n",
       "     Attr8   Attr9  ...    Attr56     Attr57   Attr58    Attr59  Attr60  \\\n",
       "0  0.57752  1.0881  ...  0.080955    0.27543  0.91905  0.002024  7.2711   \n",
       "1   1.0634  1.2757  ... -0.028591  -0.012035  1.00470   0.15222  6.0911   \n",
       "2    3.059  1.1415  ...  0.123960    0.19229  0.87604         0  8.7934   \n",
       "3   0.1274  1.2754  ...  0.418840   -0.79602  0.59074    2.8787  7.6524   \n",
       "4  0.81682   1.515  ...  0.240400    0.10716  0.77048   0.13938  10.118   \n",
       "\n",
       "   Attr61   Attr62  Attr63  Attr64  class  \n",
       "0  4.7343  142.760  2.5568  3.2597      0  \n",
       "1  3.2749  111.140  3.2841    3.37      0  \n",
       "2   2.987   71.531  5.1027  5.6188      0  \n",
       "3  3.3302  147.560  2.4735  5.9299      0  \n",
       "4   4.095  106.430  3.4294  3.3622      0  \n",
       "\n",
       "[5 rows x 66 columns]"
      ]
     },
     "execution_count": 5,
     "metadata": {},
     "output_type": "execute_result"
    }
   ],
   "source": [
    "data.head()"
   ]
  },
  {
   "cell_type": "code",
   "execution_count": 6,
   "id": "c3be7a96",
   "metadata": {},
   "outputs": [],
   "source": [
    "X = data.drop(columns=['class', 'id'], axis = 1)\n",
    "y = data['class']"
   ]
  },
  {
   "cell_type": "code",
   "execution_count": 7,
   "id": "26a3e4cf",
   "metadata": {},
   "outputs": [
    {
     "name": "stdout",
     "output_type": "stream",
     "text": [
      "Broj atributa: 64\n"
     ]
    }
   ],
   "source": [
    "attr = X.columns[0:len(X.columns)]\n",
    "print('Broj atributa:', len(attr))"
   ]
  },
  {
   "cell_type": "code",
   "execution_count": 8,
   "id": "f3c23ced",
   "metadata": {},
   "outputs": [
    {
     "name": "stdout",
     "output_type": "stream",
     "text": [
      "(5910, 64)\n",
      "(5910,)\n"
     ]
    }
   ],
   "source": [
    "print(X.shape)\n",
    "print(y.shape)"
   ]
  },
  {
   "cell_type": "markdown",
   "id": "49f6d064",
   "metadata": {},
   "source": [
    "## Nedostajuce vrednosti"
   ]
  },
  {
   "cell_type": "markdown",
   "id": "1bf5bde7",
   "metadata": {},
   "source": [
    "Primeceno je da u podacima postoje nedostajuce vrednosti koje su oznacene upitnikom (?)"
   ]
  },
  {
   "cell_type": "code",
   "execution_count": 9,
   "id": "31a5f105",
   "metadata": {},
   "outputs": [
    {
     "name": "stdout",
     "output_type": "stream",
     "text": [
      "Broj redova u kojima se pojavljuju nedostajuce vrednosti:  2879\n"
     ]
    }
   ],
   "source": [
    "print('Broj redova u kojima se pojavljuju nedostajuce vrednosti: ', (X == '?').any(axis=1).sum())"
   ]
  },
  {
   "cell_type": "code",
   "execution_count": 10,
   "id": "cdef24f3",
   "metadata": {},
   "outputs": [
    {
     "name": "stdout",
     "output_type": "stream",
     "text": [
      "Ukupan broj pojavljivanja nedostajucih vrednosti u svim podacima:  4666\n"
     ]
    }
   ],
   "source": [
    "print('Ukupan broj pojavljivanja nedostajucih vrednosti u svim podacima: ', (X == '?').sum().sum())"
   ]
  },
  {
   "cell_type": "code",
   "execution_count": 11,
   "id": "66417d7e",
   "metadata": {},
   "outputs": [],
   "source": [
    "attr_sum = (X == '?').sum().sort_values(ascending=False)\n",
    "T = attr_sum.where(attr_sum > 0).dropna().astype(int)"
   ]
  },
  {
   "cell_type": "code",
   "execution_count": 12,
   "id": "3e7155d5",
   "metadata": {},
   "outputs": [
    {
     "name": "stdout",
     "output_type": "stream",
     "text": [
      "Broj atributa u kojima se pojavljuju nedostajuce vrednosti:  49\n"
     ]
    }
   ],
   "source": [
    "print('Broj atributa u kojima se pojavljuju nedostajuce vrednosti: ', T.count())"
   ]
  },
  {
   "cell_type": "code",
   "execution_count": 13,
   "id": "2d383a70",
   "metadata": {},
   "outputs": [
    {
     "name": "stdout",
     "output_type": "stream",
     "text": [
      "Atributi sortirani po broju nedostajucih vrednosti (prvih 10): \n"
     ]
    },
    {
     "data": {
      "text/plain": [
       "Attr37    2548\n",
       "Attr27     391\n",
       "Attr45     268\n",
       "Attr60     268\n",
       "Attr24     135\n",
       "Attr28     107\n",
       "Attr64     107\n",
       "Attr53     107\n",
       "Attr54     107\n",
       "Attr21     103\n",
       "dtype: int64"
      ]
     },
     "execution_count": 13,
     "metadata": {},
     "output_type": "execute_result"
    }
   ],
   "source": [
    "print('Atributi sortirani po broju nedostajucih vrednosti (prvih 10): ')\n",
    "T.head(10)"
   ]
  },
  {
   "cell_type": "code",
   "execution_count": 14,
   "id": "6eee25b3",
   "metadata": {},
   "outputs": [],
   "source": [
    "X_new = X.replace('?', np.NaN)"
   ]
  },
  {
   "cell_type": "markdown",
   "id": "39ae0110",
   "metadata": {},
   "source": [
    "<br>\n",
    "Izbacicemo atribut koji ima najvise nedostajucih vrednosti (Attr37)"
   ]
  },
  {
   "cell_type": "code",
   "execution_count": 15,
   "id": "08064c6c",
   "metadata": {},
   "outputs": [],
   "source": [
    "X_new = X_new.drop(columns=['Attr37'])"
   ]
  },
  {
   "cell_type": "code",
   "execution_count": 16,
   "id": "b1f8ed0f",
   "metadata": {},
   "outputs": [],
   "source": [
    "attr = attr[0:36].append(attr[37:])"
   ]
  },
  {
   "cell_type": "code",
   "execution_count": 17,
   "id": "5a57c61f",
   "metadata": {},
   "outputs": [
    {
     "data": {
      "text/plain": [
       "(63,)"
      ]
     },
     "execution_count": 17,
     "metadata": {},
     "output_type": "execute_result"
    }
   ],
   "source": [
    "attr.shape"
   ]
  },
  {
   "cell_type": "code",
   "execution_count": 18,
   "id": "cf6c1cbe",
   "metadata": {},
   "outputs": [
    {
     "name": "stdout",
     "output_type": "stream",
     "text": [
      "Ukupan broj pojavljivanja preostalih nedostajucih vrednosti (nakon izbacivanja attr 37):  2118\n"
     ]
    }
   ],
   "source": [
    "print('Ukupan broj pojavljivanja preostalih nedostajucih vrednosti (nakon izbacivanja attr 37): ', (X_new.isnull()).sum().sum())"
   ]
  },
  {
   "cell_type": "code",
   "execution_count": 19,
   "id": "9a01d3d5",
   "metadata": {},
   "outputs": [
    {
     "name": "stdout",
     "output_type": "stream",
     "text": [
      "Preostali broj redova u kojima se pojavljuju nedostajuce vrednosti:  912\n"
     ]
    }
   ],
   "source": [
    "rows_with_nan = [index for index, row in X_new.iterrows() if row.isnull().any()]\n",
    "print('Preostali broj redova u kojima se pojavljuju nedostajuce vrednosti: ', len(rows_with_nan))"
   ]
  },
  {
   "cell_type": "code",
   "execution_count": 20,
   "id": "7d57e045",
   "metadata": {},
   "outputs": [],
   "source": [
    "X_float = X_new.astype(float)"
   ]
  },
  {
   "cell_type": "markdown",
   "id": "108b9d6f",
   "metadata": {},
   "source": [
    "<br>\n",
    "Primeceno je da su podaci neizbalansirani:"
   ]
  },
  {
   "cell_type": "code",
   "execution_count": 21,
   "id": "4137db2f",
   "metadata": {},
   "outputs": [
    {
     "data": {
      "text/plain": [
       "0    5500\n",
       "1     410\n",
       "Name: class, dtype: int64"
      ]
     },
     "execution_count": 21,
     "metadata": {},
     "output_type": "execute_result"
    }
   ],
   "source": [
    "class_distribution = data['class'].value_counts()\n",
    "class_distribution"
   ]
  },
  {
   "cell_type": "code",
   "execution_count": 22,
   "id": "e9c8c59e",
   "metadata": {},
   "outputs": [
    {
     "data": {
      "text/plain": [
       "Int64Index([0, 1], dtype='int64')"
      ]
     },
     "execution_count": 22,
     "metadata": {},
     "output_type": "execute_result"
    }
   ],
   "source": [
    "class_distribution.index"
   ]
  },
  {
   "cell_type": "code",
   "execution_count": 23,
   "id": "d0c20792",
   "metadata": {},
   "outputs": [
    {
     "data": {
      "image/png": "[encoded data removed]",
      "text/plain": [
       "<Figure size 432x288 with 1 Axes>"
      ]
     },
     "metadata": {
      "needs_background": "light"
     },
     "output_type": "display_data"
    }
   ],
   "source": [
    "plt.title('Odnos kompanija koje su bankrotirale i onih koje nisu')\n",
    "plt.bar(class_distribution.index, class_distribution.values)\n",
    "plt.xticks(class_distribution.index)\n",
    "plt.show()"
   ]
  },
  {
   "cell_type": "code",
   "execution_count": 24,
   "id": "1722282a",
   "metadata": {},
   "outputs": [],
   "source": [
    "#X.info()"
   ]
  },
  {
   "cell_type": "markdown",
   "id": "c99e68b4",
   "metadata": {},
   "source": [
    "## Korelisanost podataka"
   ]
  },
  {
   "cell_type": "code",
   "execution_count": 25,
   "id": "51a6bbbb",
   "metadata": {},
   "outputs": [
    {
     "data": {
      "image/png": "[encoded data removed]",
      "text/plain": [
       "<Figure size 1440x1440 with 2 Axes>"
      ]
     },
     "metadata": {
      "needs_background": "light"
     },
     "output_type": "display_data"
    }
   ],
   "source": [
    "cor = X_float.corr()\n",
    "plt.figure(figsize=(20,20))\n",
    "plt.xticks(range(0, len(attr)), attr, rotation='vertical')\n",
    "plt.yticks(range(0, len(attr)), attr)\n",
    "plt.imshow(cor, cmap=plt.cm.Blues)\n",
    "plt.colorbar()\n",
    "plt.show()"
   ]
  },
  {
   "cell_type": "code",
   "execution_count": 26,
   "id": "73e10500",
   "metadata": {},
   "outputs": [
    {
     "data": {
      "text/plain": [
       "63"
      ]
     },
     "execution_count": 26,
     "metadata": {},
     "output_type": "execute_result"
    }
   ],
   "source": [
    "len(cor)"
   ]
  },
  {
   "cell_type": "code",
   "execution_count": 27,
   "id": "250b40d1",
   "metadata": {},
   "outputs": [],
   "source": [
    "#cor"
   ]
  },
  {
   "cell_type": "code",
   "execution_count": 28,
   "id": "3f6be2d9",
   "metadata": {},
   "outputs": [],
   "source": [
    "cor_abs = X.corr().abs()"
   ]
  },
  {
   "cell_type": "code",
   "execution_count": 29,
   "id": "91cf8ca5",
   "metadata": {},
   "outputs": [],
   "source": [
    "#gornje trougaona matrica\n",
    "upper_tri = cor_abs.where(np.triu(np.ones(cor_abs.shape),k=1).astype(bool))\n",
    "#print(upper_tri)"
   ]
  },
  {
   "cell_type": "markdown",
   "id": "69657f4e",
   "metadata": {},
   "source": [
    "Izbacicemo visoko korelisane atribute"
   ]
  },
  {
   "cell_type": "code",
   "execution_count": 30,
   "id": "cfb969df",
   "metadata": {},
   "outputs": [
    {
     "data": {
      "text/plain": [
       "['Attr23', 'Attr31', 'Attr44', 'Attr49', 'Attr62']"
      ]
     },
     "execution_count": 30,
     "metadata": {},
     "output_type": "execute_result"
    }
   ],
   "source": [
    "to_drop = [column for column in upper_tri.columns if any(upper_tri[column] > 0.95)]\n",
    "to_drop"
   ]
  },
  {
   "cell_type": "code",
   "execution_count": 31,
   "id": "2551c22c",
   "metadata": {},
   "outputs": [
    {
     "data": {
      "text/plain": [
       "(5910, 58)"
      ]
     },
     "execution_count": 31,
     "metadata": {},
     "output_type": "execute_result"
    }
   ],
   "source": [
    "X_final = X_new.drop(columns=to_drop)\n",
    "X_final.shape"
   ]
  },
  {
   "cell_type": "code",
   "execution_count": 32,
   "id": "02f90723",
   "metadata": {},
   "outputs": [],
   "source": [
    "y_final = y"
   ]
  },
  {
   "cell_type": "code",
   "execution_count": 33,
   "id": "382a7ece",
   "metadata": {
    "scrolled": false
   },
   "outputs": [
    {
     "name": "stdout",
     "output_type": "stream",
     "text": [
      "Stored 'X_final' (DataFrame)\n",
      "Stored 'y_final' (Series)\n"
     ]
    }
   ],
   "source": [
    "%store X_final\n",
    "%store y_final"
   ]
  }
 ],
 "metadata": {
  "kernelspec": {
   "display_name": "Python 3.8.13 ('masinsko')",
   "language": "python",
   "name": "python3"
  },
  "language_info": {
   "codemirror_mode": {
    "name": "ipython",
    "version": 3
   },
   "file_extension": ".py",
   "mimetype": "text/x-python",
   "name": "python",
   "nbconvert_exporter": "python",
   "pygments_lexer": "ipython3",
   "version": "3.8.13"
  },
  "vscode": {
   "interpreter": {
    "hash": "b0ffc4e27179d5eae6a973088affba60d7800a47b0293fa0d3dfcbbfaa7fcd95"
   }
  }
 },
 "nbformat": 4,
 "nbformat_minor": 5
}
