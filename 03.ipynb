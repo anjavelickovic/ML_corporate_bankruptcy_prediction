{
 "cells": [
  {
   "cell_type": "code",
   "execution_count": 8,
   "id": "0d9cf7bf",
   "metadata": {},
   "outputs": [],
   "source": [
    "import pandas as pd\n",
    "import numpy as np\n",
    "from matplotlib import pyplot as plt\n",
    "\n",
    "from sklearn import preprocessing\n",
    "from sklearn import model_selection\n",
    "from sklearn import linear_model\n",
    "from sklearn import metrics\n",
    "from sklearn import pipeline\n",
    "\n",
    "from sklearn.linear_model import LogisticRegression\n",
    "from sklearn.ensemble import RandomForestClassifier\n",
    "from sklearn.svm import SVC"
   ]
  },
  {
   "cell_type": "markdown",
   "id": "baa47401",
   "metadata": {},
   "source": [
    "## Ugnjezdena unakrsna validacija"
   ]
  },
  {
   "cell_type": "code",
   "execution_count": 9,
   "id": "be6d91f1",
   "metadata": {},
   "outputs": [],
   "source": [
    "np.random.seed(10)"
   ]
  },
  {
   "cell_type": "code",
   "execution_count": 10,
   "id": "90a8f45c",
   "metadata": {},
   "outputs": [],
   "source": [
    "%store -r X_final\n",
    "%store -r y_final"
   ]
  },
  {
   "cell_type": "code",
   "execution_count": 11,
   "id": "3166d4a9",
   "metadata": {},
   "outputs": [
    {
     "data": {
      "text/plain": [
       "(912,)"
      ]
     },
     "execution_count": 11,
     "metadata": {},
     "output_type": "execute_result"
    }
   ],
   "source": [
    "#izbacicujemo redove u kojima ima nedostajucih vrednosti\n",
    "rows_to_remove = X_final[X_final.isna().any(axis=1)].index\n",
    "rows_to_remove.shape"
   ]
  },
  {
   "cell_type": "code",
   "execution_count": 12,
   "id": "bdd4e99f",
   "metadata": {},
   "outputs": [
    {
     "name": "stdout",
     "output_type": "stream",
     "text": [
      "Nakon izbacivanja redova sa nedostajucim vrednostima:  (4998, 58) (4998,)\n"
     ]
    }
   ],
   "source": [
    "X = X_final.drop(index=rows_to_remove)\n",
    "y = y_final.drop(index=rows_to_remove)\n",
    "X = X.astype('float64')\n",
    "X.reset_index(inplace=True, drop=True)\n",
    "y.reset_index(inplace=True, drop=True)\n",
    "print('Nakon izbacivanja redova sa nedostajucim vrednostima: ', X.shape, y.shape)"
   ]
  },
  {
   "cell_type": "markdown",
   "id": "a5570702",
   "metadata": {},
   "source": [
    "### Parametrizovani svm"
   ]
  },
  {
   "cell_type": "code",
   "execution_count": 13,
   "id": "8c4f0e01",
   "metadata": {},
   "outputs": [],
   "source": [
    "def parameterized_svm(X, y):\n",
    "    grid_model = pipeline.Pipeline(steps=[('scaler', preprocessing.StandardScaler()), ('svm', SVC())])\n",
    "    \n",
    "    params = {\n",
    "        'svm__C': [10**i for i in range(-3, 3)], \n",
    "        'svm__gamma': [10**i for i in range(-2, 2)]\n",
    "        }\n",
    "    \n",
    "    scores = model_selection.cross_val_score(model_selection.GridSearchCV(\\\n",
    "                        grid_model, param_grid=params, scoring='accuracy', cv=3, verbose=1),\\\n",
    "                        X, y, scoring='accuracy', cv=3, verbose=1)\n",
    "    \n",
    "    return scores"
   ]
  },
  {
   "cell_type": "code",
   "execution_count": 14,
   "id": "e53116a1",
   "metadata": {},
   "outputs": [
    {
     "name": "stdout",
     "output_type": "stream",
     "text": [
      "Fitting 3 folds for each of 24 candidates, totalling 72 fits\n"
     ]
    },
    {
     "name": "stderr",
     "output_type": "stream",
     "text": [
      "[Parallel(n_jobs=1)]: Using backend SequentialBackend with 1 concurrent workers.\n"
     ]
    },
    {
     "name": "stdout",
     "output_type": "stream",
     "text": [
      "Fitting 3 folds for each of 24 candidates, totalling 72 fits\n",
      "Fitting 3 folds for each of 24 candidates, totalling 72 fits\n"
     ]
    },
    {
     "name": "stderr",
     "output_type": "stream",
     "text": [
      "[Parallel(n_jobs=1)]: Done   3 out of   3 | elapsed:   46.3s finished\n"
     ]
    }
   ],
   "source": [
    "scores_svm = parameterized_svm(X, y)"
   ]
  },
  {
   "cell_type": "code",
   "execution_count": 15,
   "id": "47e3d7a5",
   "metadata": {},
   "outputs": [
    {
     "name": "stdout",
     "output_type": "stream",
     "text": [
      "Minimalna tacnost: 0.962185\n",
      "Maksimalna tacnost: 0.963986\n",
      "Srednja vrednost: 0.963185\n"
     ]
    }
   ],
   "source": [
    "print(\"Minimalna tacnost: %f\\nMaksimalna tacnost: %f\\nSrednja vrednost: %f\" % (np.min(scores_svm), np.max(scores_svm), np.mean(scores_svm)))"
   ]
  },
  {
   "cell_type": "code",
   "execution_count": null,
   "id": "f61e5eb9",
   "metadata": {},
   "outputs": [],
   "source": []
  },
  {
   "cell_type": "markdown",
   "id": "178b9bb1",
   "metadata": {},
   "source": [
    "### Slucajne sume"
   ]
  },
  {
   "cell_type": "code",
   "execution_count": 16,
   "id": "0f4ff5f1",
   "metadata": {},
   "outputs": [],
   "source": [
    "def parameterized_random_forest(X, y):\n",
    "    param_grid2 = {\n",
    "        'classifier__n_estimators': [200, 500],\n",
    "        'classifier__max_depth' : [4,5,6,7,8],\n",
    "        'classifier__criterion' :['gini', 'entropy']\n",
    "        }\n",
    "    \n",
    "    grid_search = model_selection.GridSearchCV(\\\n",
    "                            pipeline.Pipeline(steps=[('scaler', preprocessing.StandardScaler()),\\\n",
    "                                                     ('classifier', RandomForestClassifier())]), \\\n",
    "                                               param_grid=param_grid2, scoring='accuracy', cv=3, n_jobs=6, verbose=1)\n",
    "    \n",
    "    scores = model_selection.cross_val_score(grid_search, X, y, scoring='accuracy', cv=3, verbose=1, n_jobs=3)\n",
    "    \n",
    "    return scores"
   ]
  },
  {
   "cell_type": "code",
   "execution_count": 18,
   "id": "a2fc7b11",
   "metadata": {},
   "outputs": [
    {
     "name": "stderr",
     "output_type": "stream",
     "text": [
      "[Parallel(n_jobs=3)]: Using backend LokyBackend with 3 concurrent workers.\n"
     ]
    },
    {
     "name": "stdout",
     "output_type": "stream",
     "text": [
      "Fitting 3 folds for each of 20 candidates, totalling 60 fits\n",
      "Fitting 3 folds for each of 20 candidates, totalling 60 fits\n",
      "Fitting 3 folds for each of 20 candidates, totalling 60 fits\n"
     ]
    },
    {
     "name": "stderr",
     "output_type": "stream",
     "text": [
      "[Parallel(n_jobs=3)]: Done   3 out of   3 | elapsed:  2.3min finished\n"
     ]
    }
   ],
   "source": [
    "scores_forest = parameterized_random_forest(X, y)"
   ]
  },
  {
   "cell_type": "code",
   "execution_count": 19,
   "id": "24a252ee",
   "metadata": {},
   "outputs": [
    {
     "name": "stdout",
     "output_type": "stream",
     "text": [
      "Minimalna tacnost: 0.960984\n",
      "Maksimalna tacnost: 0.965786\n",
      "srednja vrednost: 0.963185\n"
     ]
    }
   ],
   "source": [
    "print(\"Minimalna tacnost: %f\\nMaksimalna tacnost: %f\\nsrednja vrednost: %f\" % (np.min(scores_forest), np.max(scores_forest), np.mean(scores_forest)))"
   ]
  },
  {
   "cell_type": "code",
   "execution_count": 20,
   "id": "1604743b",
   "metadata": {},
   "outputs": [
    {
     "data": {
      "image/png": "[encoded data removed]",
      "text/plain": [
       "<Figure size 432x288 with 1 Axes>"
      ]
     },
     "metadata": {
      "needs_background": "light"
     },
     "output_type": "display_data"
    }
   ],
   "source": [
    "plt.bar(-0.15, scores_svm.mean(), color='green', width=0.3, label='SVM')\n",
    "plt.bar(0.15, scores_forest.mean(), color='blue', width=0.3, label='Random forest')\n",
    "plt.legend()\n",
    "\n",
    "plt.ylim(0.96, 0.965)\n",
    "\n",
    "plt.show()"
   ]
  },
  {
   "cell_type": "code",
   "execution_count": null,
   "id": "231c9a2a",
   "metadata": {},
   "outputs": [],
   "source": []
  }
 ],
 "metadata": {
  "kernelspec": {
   "display_name": "Python 3 (ipykernel)",
   "language": "python",
   "name": "python3"
  },
  "language_info": {
   "codemirror_mode": {
    "name": "ipython",
    "version": 3
   },
   "file_extension": ".py",
   "mimetype": "text/x-python",
   "name": "python",
   "nbconvert_exporter": "python",
   "pygments_lexer": "ipython3",
   "version": "3.8.13"
  },
  "vscode": {
   "interpreter": {
    "hash": "b0ffc4e27179d5eae6a973088affba60d7800a47b0293fa0d3dfcbbfaa7fcd95"
   }
  }
 },
 "nbformat": 4,
 "nbformat_minor": 5
}
